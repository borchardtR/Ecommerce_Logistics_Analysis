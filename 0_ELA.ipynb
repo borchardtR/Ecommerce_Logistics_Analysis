{
 "cells": [
  {
   "cell_type": "markdown",
   "metadata": {},
   "source": [
    "# Ecommerce Logistics Analysis, Section 0\n",
    "\n",
    "Objective: Answer business questions for the Olist business in SQL.\n",
    "\n",
    "This is real, commercial data from the Olist Store. It contains information on over 100k orders from 2016 through 2018. Note that it has been anonymized (company names have been replaced with Game of Thrones house names). \n",
    "\n",
    "Olist is a Brazilian Ecommerce store (add more description later -> see the kaggle description as well as the actual website): https://olist.com/ \n",
    "\n",
    "Dataset sources: <br>\n",
    "Source 1: https://www.kaggle.com/olistbr/brazilian-ecommerce <br>\n",
    "Source 2: https://www.kaggle.com/olistbr/marketing-funnel-olist <br>\n",
    "\n",
    "This section contains 4 parts:\n",
    "1. Creating the database as a .db file\n",
    "2. Identifying structural issues in the database\n",
    "3. Identifying sourcing issues \n",
    "4. Handling missing values"
   ]
  },
  {
   "cell_type": "markdown",
   "metadata": {},
   "source": [
    "## Part 1: Create database \n",
    "\n",
    "Note that this dataset was originally a collection of 12 csv files (10 csv files from Source 1 and 2 csv files from Source 2.)\n",
    "\n",
    "1. Created a database (ecommerce.db)\n",
    "2. Created tables (specified table name, columns, column types, primary keys, foreign keys, column constaints etc)\n",
    "3. Inserted data from the csv files into the tables. \n",
    "\n",
    "Routine:\n",
    "\n",
    "1. Create table using template using template, specifying primary and foreign keys.\n",
    "2. Make sure there are no duplicates on the primary key in the database. \n",
    "3. insert the data into the table using template for sellers table. \n",
    "4. Reopen DB browser and can confirm it was inserted.\n",
    "5. Run a sample sql query joining the new table.\n",
    "\n",
    "### Create empty database\n",
    "\n",
    "In command prompt:\n",
    "![title](images/create_empty_db.JPG)\n"
   ]
  },
  {
   "cell_type": "markdown",
   "metadata": {},
   "source": [
    "### Create tables, insert data, data normalization\n",
    "\n",
    "Create tables: Will create each table, designating column data types and constraints so as to maintain data integrity and relationships between tables. <br>\n",
    "Make sure table is created w/ correct column and column types.<br>\n",
    "Data normalization: reduce data duplication, improve data integrity<br>\n",
    "Insert data into tables: <br>\n",
    "Close DB Browser.<br>"
   ]
  },
  {
   "cell_type": "markdown",
   "metadata": {},
   "source": [
    "#### geolocation table\n",
    "\n",
    "- Using 'geolocation_zip_code_prefix' as the primary key for this table. \n",
    "- The 'geolocation_zip_code_prefix' column is not unique in the original dataset. Each repeating value of the 'geolocation_zip_code_prefix' is accompanied by the exact same information in every other column. In other words, entire rows in this dataset are repeated frequently.\n",
    "- Dropping duplicates of the 'geolocation_zip_code_prefix' so that it can be used as the primary key in the table and to reduce data redundancy/duplication as part of the data normalization process.\n",
    "- No foreign keys are necessary for this table.\n",
    "\n",
    "Create table:\n",
    "![title](images/create_geolocation_table_2.JPG)"
   ]
  },
  {
   "cell_type": "code",
   "execution_count": 1,
   "metadata": {},
   "outputs": [
    {
     "name": "stdout",
     "output_type": "stream",
     "text": [
      "(1000163, 5)\n",
      "(19015, 5)\n"
     ]
    }
   ],
   "source": [
    "#Data normalization (reduce data duplication) and make 'geolocation_zip_code_prefix' the primary key\n",
    "import pandas as pd\n",
    "\n",
    "geolocation_long = pd.read_csv('data/brazilian-ecommerce/olist_geolocation_dataset.csv')\n",
    "print(geolocation_long.shape)\n",
    "geolocation_short = geolocation_long.drop_duplicates(subset='geolocation_zip_code_prefix', keep=\"first\")\n",
    "print(geolocation_short.shape)\n",
    "geolocation_short.to_csv('data/brazilian-ecommerce/geolocation_short.csv', index=False)"
   ]
  },
  {
   "cell_type": "markdown",
   "metadata": {},
   "source": [
    "Insert data into geolocation table:\n",
    "![title](images/insert_geolocation_data.JPG)"
   ]
  },
  {
   "cell_type": "markdown",
   "metadata": {},
   "source": [
    "#### customers table\n",
    "\n",
    "- Using 'customer_id' as the primary key for this table. Reminder that a new customer_id is generated for each new order, regardless of whether it is a new customer or an existing one.\n",
    "- The 'customer_id' column is unique and non-null so it can be used as primary key w/o any changes (see below).\n",
    "- The 'customer_unique_id' column can be used to track the individual customers. This is unique to each customer. Values of this column repeat for customers who have made multiple purchases through Olist.\n",
    "- Using 'customer_zip_code_prefix' as foreign key, corresponding to the 'geolocation_zip_code' primary key in the geolocation table\n",
    "\n",
    "Create table:\n",
    "![title](images/create_customers_table_updated.JPG)"
   ]
  },
  {
   "cell_type": "code",
   "execution_count": 2,
   "metadata": {},
   "outputs": [
    {
     "name": "stdout",
     "output_type": "stream",
     "text": [
      "(99441, 5)\n",
      "(99441, 5)\n",
      "The customer_id column is unique for each row. Can be used as primary key w/o any changes\n"
     ]
    }
   ],
   "source": [
    "#Make primary key, reduce data duplication\n",
    "customers_long = pd.read_csv('data/brazilian-ecommerce/olist_customers_dataset.csv')\n",
    "print(customers_long.shape)\n",
    "customers_short = customers_long.drop_duplicates(subset='customer_id', keep=\"first\")\n",
    "print(customers_short.shape)\n",
    "print(\"The customer_id column is unique for each row. Can be used as primary key w/o any changes\")"
   ]
  },
  {
   "cell_type": "markdown",
   "metadata": {},
   "source": [
    "Insert data into customers table:\n",
    "![title](images/insert_customers_data_updated.JPG)"
   ]
  },
  {
   "cell_type": "markdown",
   "metadata": {},
   "source": [
    "#### sellers table\n",
    "\n",
    "- Using 'seller_id' as the primary key for this table. \n",
    "- The 'seller_id' column is unique and non-null so it can be used as primary key w/o any changes (see below).\n",
    "- Using 'seller_zip_code_prefix' as foreign key, corresponding to the 'geolocation_zip_code' primary key in the geolocation table\n",
    "\n",
    "Create table:\n",
    "![title](images/create_sellers_table.JPG)"
   ]
  },
  {
   "cell_type": "code",
   "execution_count": 3,
   "metadata": {},
   "outputs": [
    {
     "name": "stdout",
     "output_type": "stream",
     "text": [
      "(3095, 4)\n",
      "(3095, 4)\n",
      "The seller_id column is unique for each row. Can be used as primary key w/o any changes\n"
     ]
    }
   ],
   "source": [
    "sellers_long = pd.read_csv('data/brazilian-ecommerce/olist_sellers_dataset.csv')\n",
    "print(sellers_long.shape)\n",
    "sellers_short = sellers_long.drop_duplicates(subset='seller_id', keep=\"first\")\n",
    "print(sellers_short.shape)\n",
    "sellers_short.to_csv('data/brazilian-ecommerce/sellers_short.csv', index=False)\n",
    "print(\"The seller_id column is unique for each row. Can be used as primary key w/o any changes\")"
   ]
  },
  {
   "cell_type": "markdown",
   "metadata": {},
   "source": [
    "Insert data into sellers table:\n",
    "![title](images/insert_sellers_data.JPG)"
   ]
  },
  {
   "cell_type": "markdown",
   "metadata": {},
   "source": [
    "#### orders table\n",
    "\n",
    "- Using 'order_id' as the primary key for this table.\n",
    "- The 'order_id' column is unique and non-null so it can be used as primary key w/o any changes (see below).\n",
    "- Using 'customer_id' as foreign key, corresponding to the 'customer_id' primary key in the customers table\n",
    "\n",
    "Create table:\n",
    "![title](images/create_orders_table.JPG)"
   ]
  },
  {
   "cell_type": "code",
   "execution_count": 4,
   "metadata": {},
   "outputs": [
    {
     "name": "stdout",
     "output_type": "stream",
     "text": [
      "99441\n",
      "99441\n",
      "The order_id column is unique for each row. Can be used as primary key w/o any changes\n"
     ]
    }
   ],
   "source": [
    "# Can the 'order_id' column be used as the primary key for the 'orders' table? \n",
    "#(ie is 'order_id' a unique, non-null identifier for each row in this table?)\n",
    "orders_dataset = pd.read_csv('data/brazilian-ecommerce/olist_orders_dataset.csv')\n",
    "print(len(orders_dataset))\n",
    "print(len(orders_dataset['order_id'].unique()))\n",
    "print(\"The order_id column is unique for each row. Can be used as primary key w/o any changes\")"
   ]
  },
  {
   "cell_type": "markdown",
   "metadata": {},
   "source": [
    "Insert data into sellers table:\n",
    "![title](images/insert_orders_data.JPG)"
   ]
  },
  {
   "cell_type": "markdown",
   "metadata": {},
   "source": [
    "#### order_reviews table\n",
    "\n",
    "- Using 'review_id' as the primary key for this table.\n",
    "- The 'review_id' column is NOT unique. There are ~500 reviews that have duplicates. \n",
    "- The investigation of the 'review_id' duplicates (see below) indicates that review_ids show up for multiple orders of the same item. The same rating and reviews are the same for a given repeated review_id. For now, I am going to just drop any duplicates of a 'review_id' so that I can use it as a primary key and b/c only most redundant information is lost. May revisit this if I want to do an even more detailed analysis of this.\n",
    "- Using 'order_id' as foreign key, corresponding to the 'order_id' primary key in the orders table\n",
    "\n",
    "Create table:\n",
    "![title](images/create_order_reviews_table.JPG)"
   ]
  },
  {
   "cell_type": "code",
   "execution_count": 5,
   "metadata": {},
   "outputs": [
    {
     "name": "stdout",
     "output_type": "stream",
     "text": [
      "100000\n",
      "99441\n",
      "99173\n"
     ]
    },
    {
     "data": {
      "text/html": [
       "<div>\n",
       "<style scoped>\n",
       "    .dataframe tbody tr th:only-of-type {\n",
       "        vertical-align: middle;\n",
       "    }\n",
       "\n",
       "    .dataframe tbody tr th {\n",
       "        vertical-align: top;\n",
       "    }\n",
       "\n",
       "    .dataframe thead th {\n",
       "        text-align: right;\n",
       "    }\n",
       "</style>\n",
       "<table border=\"1\" class=\"dataframe\">\n",
       "  <thead>\n",
       "    <tr style=\"text-align: right;\">\n",
       "      <th></th>\n",
       "      <th>review_id</th>\n",
       "      <th>order_id</th>\n",
       "      <th>review_score</th>\n",
       "      <th>review_comment_title</th>\n",
       "      <th>review_comment_message</th>\n",
       "      <th>review_creation_date</th>\n",
       "      <th>review_answer_timestamp</th>\n",
       "    </tr>\n",
       "  </thead>\n",
       "  <tbody>\n",
       "    <tr>\n",
       "      <th>200</th>\n",
       "      <td>28642ce6250b94cc72bc85960aec6c62</td>\n",
       "      <td>e239d280236cdd3c40cb2c033f681d1c</td>\n",
       "      <td>5</td>\n",
       "      <td>NaN</td>\n",
       "      <td>NaN</td>\n",
       "      <td>2018-03-25 00:00:00</td>\n",
       "      <td>2018-03-25 21:03:02</td>\n",
       "    </tr>\n",
       "    <tr>\n",
       "      <th>346</th>\n",
       "      <td>a0a641414ff718ca079b3967ef5c2495</td>\n",
       "      <td>169d7e0fd71d624d306f132acd791cbe</td>\n",
       "      <td>5</td>\n",
       "      <td>NaN</td>\n",
       "      <td>NaN</td>\n",
       "      <td>2018-03-04 00:00:00</td>\n",
       "      <td>2018-03-06 20:12:53</td>\n",
       "    </tr>\n",
       "    <tr>\n",
       "      <th>348</th>\n",
       "      <td>f4d74b17cd63ee35efa82cd2567de911</td>\n",
       "      <td>f269e83a82f64baa3de97c2ebf3358f6</td>\n",
       "      <td>3</td>\n",
       "      <td>NaN</td>\n",
       "      <td>A embalagem deixou a desejar, por pouco o prod...</td>\n",
       "      <td>2018-01-12 00:00:00</td>\n",
       "      <td>2018-01-13 18:46:10</td>\n",
       "    </tr>\n",
       "    <tr>\n",
       "      <th>362</th>\n",
       "      <td>ecbaf1fce7d2c09bfab46f89065afeaf</td>\n",
       "      <td>2451b9756f310d4cff5c7987b393870d</td>\n",
       "      <td>5</td>\n",
       "      <td>NaN</td>\n",
       "      <td>NaN</td>\n",
       "      <td>2017-07-27 00:00:00</td>\n",
       "      <td>2017-07-28 16:57:18</td>\n",
       "    </tr>\n",
       "    <tr>\n",
       "      <th>395</th>\n",
       "      <td>6b1de94de0f4bd84dfc4136818242faa</td>\n",
       "      <td>92acf87839903a94aeca0e5040d99acb</td>\n",
       "      <td>5</td>\n",
       "      <td>NaN</td>\n",
       "      <td>NaN</td>\n",
       "      <td>2018-02-16 00:00:00</td>\n",
       "      <td>2018-02-19 19:04:21</td>\n",
       "    </tr>\n",
       "  </tbody>\n",
       "</table>\n",
       "</div>"
      ],
      "text/plain": [
       "                            review_id                          order_id  \\\n",
       "200  28642ce6250b94cc72bc85960aec6c62  e239d280236cdd3c40cb2c033f681d1c   \n",
       "346  a0a641414ff718ca079b3967ef5c2495  169d7e0fd71d624d306f132acd791cbe   \n",
       "348  f4d74b17cd63ee35efa82cd2567de911  f269e83a82f64baa3de97c2ebf3358f6   \n",
       "362  ecbaf1fce7d2c09bfab46f89065afeaf  2451b9756f310d4cff5c7987b393870d   \n",
       "395  6b1de94de0f4bd84dfc4136818242faa  92acf87839903a94aeca0e5040d99acb   \n",
       "\n",
       "     review_score review_comment_title  \\\n",
       "200             5                  NaN   \n",
       "346             5                  NaN   \n",
       "348             3                  NaN   \n",
       "362             5                  NaN   \n",
       "395             5                  NaN   \n",
       "\n",
       "                                review_comment_message review_creation_date  \\\n",
       "200                                                NaN  2018-03-25 00:00:00   \n",
       "346                                                NaN  2018-03-04 00:00:00   \n",
       "348  A embalagem deixou a desejar, por pouco o prod...  2018-01-12 00:00:00   \n",
       "362                                                NaN  2017-07-27 00:00:00   \n",
       "395                                                NaN  2018-02-16 00:00:00   \n",
       "\n",
       "    review_answer_timestamp  \n",
       "200     2018-03-25 21:03:02  \n",
       "346     2018-03-06 20:12:53  \n",
       "348     2018-01-13 18:46:10  \n",
       "362     2017-07-28 16:57:18  \n",
       "395     2018-02-19 19:04:21  "
      ]
     },
     "execution_count": 5,
     "metadata": {},
     "output_type": "execute_result"
    }
   ],
   "source": [
    "# Can the 'review_id' column be used as the primary key for the 'order_reviews' table? \n",
    "#(ie is 'review_id' a unique, non-null identifier for each row in this table?)\n",
    "order_reviews = pd.read_csv('data/brazilian-ecommerce/olist_order_reviews_dataset.csv')\n",
    "\n",
    "print(len(order_reviews))\n",
    "# The 'order_id' column is not unique for this dataset\n",
    "print(len(order_reviews['order_id'].unique()))\n",
    "# The 'review_id' column is not unique for this dataset\n",
    "print(len(order_reviews['review_id'].unique()))\n",
    "\n",
    "# Make compound primary key using 'order_id' and 'review_id'??? How will that work for connecting to other tables?\n",
    "# Need to look at rows w/ duplicate 'review_id' and see what is actually happening here.\n",
    "# Need to do investigation before creating this table\n",
    "\n",
    "order_reviews_duplicated = order_reviews[order_reviews.duplicated('review_id', keep=False) == True]\n",
    "order_reviews_duplicated.head()"
   ]
  },
  {
   "cell_type": "code",
   "execution_count": 6,
   "metadata": {},
   "outputs": [
    {
     "data": {
      "text/html": [
       "<div>\n",
       "<style scoped>\n",
       "    .dataframe tbody tr th:only-of-type {\n",
       "        vertical-align: middle;\n",
       "    }\n",
       "\n",
       "    .dataframe tbody tr th {\n",
       "        vertical-align: top;\n",
       "    }\n",
       "\n",
       "    .dataframe thead th {\n",
       "        text-align: right;\n",
       "    }\n",
       "</style>\n",
       "<table border=\"1\" class=\"dataframe\">\n",
       "  <thead>\n",
       "    <tr style=\"text-align: right;\">\n",
       "      <th></th>\n",
       "      <th>review_id</th>\n",
       "      <th>order_id</th>\n",
       "      <th>review_score</th>\n",
       "      <th>review_comment_title</th>\n",
       "      <th>review_comment_message</th>\n",
       "      <th>review_creation_date</th>\n",
       "      <th>review_answer_timestamp</th>\n",
       "    </tr>\n",
       "  </thead>\n",
       "  <tbody>\n",
       "    <tr>\n",
       "      <th>49710</th>\n",
       "      <td>289450935cf7a082af13e04160716ce5</td>\n",
       "      <td>2ef81da37176cfe633d519636052f2dd</td>\n",
       "      <td>5</td>\n",
       "      <td>NaN</td>\n",
       "      <td>produto chegou correto , recomendo</td>\n",
       "      <td>2018-03-25 00:00:00</td>\n",
       "      <td>2018-03-27 17:57:49</td>\n",
       "    </tr>\n",
       "    <tr>\n",
       "      <th>99428</th>\n",
       "      <td>289450935cf7a082af13e04160716ce5</td>\n",
       "      <td>4fe48790875f264fd93c9009892c3e39</td>\n",
       "      <td>5</td>\n",
       "      <td>NaN</td>\n",
       "      <td>produto chegou correto , recomendo</td>\n",
       "      <td>2018-03-25 00:00:00</td>\n",
       "      <td>2018-03-27 17:57:49</td>\n",
       "    </tr>\n",
       "  </tbody>\n",
       "</table>\n",
       "</div>"
      ],
      "text/plain": [
       "                              review_id                          order_id  \\\n",
       "49710  289450935cf7a082af13e04160716ce5  2ef81da37176cfe633d519636052f2dd   \n",
       "99428  289450935cf7a082af13e04160716ce5  4fe48790875f264fd93c9009892c3e39   \n",
       "\n",
       "       review_score review_comment_title              review_comment_message  \\\n",
       "49710             5                  NaN  produto chegou correto , recomendo   \n",
       "99428             5                  NaN  produto chegou correto , recomendo   \n",
       "\n",
       "      review_creation_date review_answer_timestamp  \n",
       "49710  2018-03-25 00:00:00     2018-03-27 17:57:49  \n",
       "99428  2018-03-25 00:00:00     2018-03-27 17:57:49  "
      ]
     },
     "execution_count": 6,
     "metadata": {},
     "output_type": "execute_result"
    }
   ],
   "source": [
    "duplicate_ex = order_reviews[order_reviews['review_id']=='289450935cf7a082af13e04160716ce5']\n",
    "duplicate_ex"
   ]
  },
  {
   "cell_type": "code",
   "execution_count": 7,
   "metadata": {},
   "outputs": [],
   "source": [
    "specific_dup_rev_1 = orders_dataset[orders_dataset['order_id']=='2ef81da37176cfe633d519636052f2dd']\n",
    "specific_dup_rev_2 = orders_dataset[orders_dataset['order_id']=='4fe48790875f264fd93c9009892c3e39']"
   ]
  },
  {
   "cell_type": "code",
   "execution_count": 8,
   "metadata": {},
   "outputs": [
    {
     "data": {
      "text/html": [
       "<div>\n",
       "<style scoped>\n",
       "    .dataframe tbody tr th:only-of-type {\n",
       "        vertical-align: middle;\n",
       "    }\n",
       "\n",
       "    .dataframe tbody tr th {\n",
       "        vertical-align: top;\n",
       "    }\n",
       "\n",
       "    .dataframe thead th {\n",
       "        text-align: right;\n",
       "    }\n",
       "</style>\n",
       "<table border=\"1\" class=\"dataframe\">\n",
       "  <thead>\n",
       "    <tr style=\"text-align: right;\">\n",
       "      <th></th>\n",
       "      <th>order_id</th>\n",
       "      <th>customer_id</th>\n",
       "      <th>order_status</th>\n",
       "      <th>order_purchase_timestamp</th>\n",
       "      <th>order_approved_at</th>\n",
       "      <th>order_delivered_carrier_date</th>\n",
       "      <th>order_delivered_customer_date</th>\n",
       "      <th>order_estimated_delivery_date</th>\n",
       "    </tr>\n",
       "  </thead>\n",
       "  <tbody>\n",
       "    <tr>\n",
       "      <th>13976</th>\n",
       "      <td>2ef81da37176cfe633d519636052f2dd</td>\n",
       "      <td>cb209afb7b4b522a2f22a76c0865aaa1</td>\n",
       "      <td>delivered</td>\n",
       "      <td>2018-03-18 15:50:21</td>\n",
       "      <td>2018-03-18 16:05:33</td>\n",
       "      <td>2018-03-21 16:33:19</td>\n",
       "      <td>2018-03-24 13:41:58</td>\n",
       "      <td>2018-04-03 00:00:00</td>\n",
       "    </tr>\n",
       "  </tbody>\n",
       "</table>\n",
       "</div>"
      ],
      "text/plain": [
       "                               order_id                       customer_id  \\\n",
       "13976  2ef81da37176cfe633d519636052f2dd  cb209afb7b4b522a2f22a76c0865aaa1   \n",
       "\n",
       "      order_status order_purchase_timestamp    order_approved_at  \\\n",
       "13976    delivered      2018-03-18 15:50:21  2018-03-18 16:05:33   \n",
       "\n",
       "      order_delivered_carrier_date order_delivered_customer_date  \\\n",
       "13976          2018-03-21 16:33:19           2018-03-24 13:41:58   \n",
       "\n",
       "      order_estimated_delivery_date  \n",
       "13976           2018-04-03 00:00:00  "
      ]
     },
     "execution_count": 8,
     "metadata": {},
     "output_type": "execute_result"
    }
   ],
   "source": [
    "specific_dup_rev_1"
   ]
  },
  {
   "cell_type": "code",
   "execution_count": 9,
   "metadata": {},
   "outputs": [
    {
     "data": {
      "text/html": [
       "<div>\n",
       "<style scoped>\n",
       "    .dataframe tbody tr th:only-of-type {\n",
       "        vertical-align: middle;\n",
       "    }\n",
       "\n",
       "    .dataframe tbody tr th {\n",
       "        vertical-align: top;\n",
       "    }\n",
       "\n",
       "    .dataframe thead th {\n",
       "        text-align: right;\n",
       "    }\n",
       "</style>\n",
       "<table border=\"1\" class=\"dataframe\">\n",
       "  <thead>\n",
       "    <tr style=\"text-align: right;\">\n",
       "      <th></th>\n",
       "      <th>order_id</th>\n",
       "      <th>customer_id</th>\n",
       "      <th>order_status</th>\n",
       "      <th>order_purchase_timestamp</th>\n",
       "      <th>order_approved_at</th>\n",
       "      <th>order_delivered_carrier_date</th>\n",
       "      <th>order_delivered_customer_date</th>\n",
       "      <th>order_estimated_delivery_date</th>\n",
       "    </tr>\n",
       "  </thead>\n",
       "  <tbody>\n",
       "    <tr>\n",
       "      <th>37793</th>\n",
       "      <td>4fe48790875f264fd93c9009892c3e39</td>\n",
       "      <td>52fcca01e852db365ea24614a227cbd0</td>\n",
       "      <td>delivered</td>\n",
       "      <td>2018-03-18 15:50:21</td>\n",
       "      <td>2018-03-18 16:05:30</td>\n",
       "      <td>2018-03-21 16:42:29</td>\n",
       "      <td>2018-03-24 13:38:27</td>\n",
       "      <td>2018-04-02 00:00:00</td>\n",
       "    </tr>\n",
       "  </tbody>\n",
       "</table>\n",
       "</div>"
      ],
      "text/plain": [
       "                               order_id                       customer_id  \\\n",
       "37793  4fe48790875f264fd93c9009892c3e39  52fcca01e852db365ea24614a227cbd0   \n",
       "\n",
       "      order_status order_purchase_timestamp    order_approved_at  \\\n",
       "37793    delivered      2018-03-18 15:50:21  2018-03-18 16:05:30   \n",
       "\n",
       "      order_delivered_carrier_date order_delivered_customer_date  \\\n",
       "37793          2018-03-21 16:42:29           2018-03-24 13:38:27   \n",
       "\n",
       "      order_estimated_delivery_date  \n",
       "37793           2018-04-02 00:00:00  "
      ]
     },
     "execution_count": 9,
     "metadata": {},
     "output_type": "execute_result"
    }
   ],
   "source": [
    "specific_dup_rev_2"
   ]
  },
  {
   "cell_type": "markdown",
   "metadata": {},
   "source": [
    "As we can see multiple review_ids show up for multiple orders of the same item. Can safely remove duplicated review_ids w/o loss of much information (besides the fact that multiple orders were placed by customer on the same item)"
   ]
  },
  {
   "cell_type": "code",
   "execution_count": 10,
   "metadata": {},
   "outputs": [
    {
     "name": "stdout",
     "output_type": "stream",
     "text": [
      "(99173, 7)\n"
     ]
    }
   ],
   "source": [
    "order_reviews_short = order_reviews.drop_duplicates(subset='review_id', keep=\"first\")\n",
    "print(order_reviews_short.shape)\n",
    "order_reviews_short.to_csv('data/brazilian-ecommerce/order_reviews_short.csv', index=False)"
   ]
  },
  {
   "cell_type": "markdown",
   "metadata": {},
   "source": [
    "Insert data into order_reviews table:\n",
    "![title](images/insert_order_reviews_data.JPG)"
   ]
  },
  {
   "cell_type": "markdown",
   "metadata": {},
   "source": [
    "#### order_payments table\n",
    "\n",
    "The repeats of the 'order_id' column are a result of the customer using multiple forms of payments on the order (see investigation below). <br>\n",
    "Will create a new column, 'order_id_payment', that concatenates these two columns together.<br>\n",
    "'order_id_payment' is a unique identifier for every row in this dataset. It will be used as the primary key.<br>\n",
    "'order_id' will be used as a foreign key to connect to the primary key 'order_id' in the orders dataset.<br>\n",
    "\n",
    "Create table:\n",
    "![title](images/create_order_payments_table.JPG)"
   ]
  },
  {
   "cell_type": "code",
   "execution_count": 11,
   "metadata": {},
   "outputs": [
    {
     "name": "stdout",
     "output_type": "stream",
     "text": [
      "103886\n",
      "99440\n"
     ]
    }
   ],
   "source": [
    "# Can the 'order_id' column be used as the primary key for the 'order_reviews' table? \n",
    "#(ie is 'order_id' a unique, non-null identifier for each row in this table?)\n",
    "order_payments = pd.read_csv('data/brazilian-ecommerce/olist_order_payments_dataset.csv')\n",
    "\n",
    "print(len(order_payments))\n",
    "# The 'order_id' column is not unique for this dataset\n",
    "print(len(order_payments['order_id'].unique()))\n",
    "\n",
    "# Answer: No, 'order_id' is not a unique identifer for this table."
   ]
  },
  {
   "cell_type": "code",
   "execution_count": 12,
   "metadata": {},
   "outputs": [
    {
     "data": {
      "text/html": [
       "<div>\n",
       "<style scoped>\n",
       "    .dataframe tbody tr th:only-of-type {\n",
       "        vertical-align: middle;\n",
       "    }\n",
       "\n",
       "    .dataframe tbody tr th {\n",
       "        vertical-align: top;\n",
       "    }\n",
       "\n",
       "    .dataframe thead th {\n",
       "        text-align: right;\n",
       "    }\n",
       "</style>\n",
       "<table border=\"1\" class=\"dataframe\">\n",
       "  <thead>\n",
       "    <tr style=\"text-align: right;\">\n",
       "      <th></th>\n",
       "      <th>order_id</th>\n",
       "      <th>payment_sequential</th>\n",
       "      <th>payment_type</th>\n",
       "      <th>payment_installments</th>\n",
       "      <th>payment_value</th>\n",
       "    </tr>\n",
       "  </thead>\n",
       "  <tbody>\n",
       "    <tr>\n",
       "      <th>25</th>\n",
       "      <td>5cfd514482e22bc992e7693f0e3e8df7</td>\n",
       "      <td>2</td>\n",
       "      <td>voucher</td>\n",
       "      <td>1</td>\n",
       "      <td>45.17</td>\n",
       "    </tr>\n",
       "    <tr>\n",
       "      <th>35</th>\n",
       "      <td>b2bb080b6bc860118a246fd9b6fad6da</td>\n",
       "      <td>1</td>\n",
       "      <td>credit_card</td>\n",
       "      <td>1</td>\n",
       "      <td>173.84</td>\n",
       "    </tr>\n",
       "    <tr>\n",
       "      <th>75</th>\n",
       "      <td>3689194c14ad4e2e7361ebd1df0e77b0</td>\n",
       "      <td>2</td>\n",
       "      <td>voucher</td>\n",
       "      <td>1</td>\n",
       "      <td>57.53</td>\n",
       "    </tr>\n",
       "    <tr>\n",
       "      <th>84</th>\n",
       "      <td>723e462ce1ee50e024887c0b403130f3</td>\n",
       "      <td>1</td>\n",
       "      <td>credit_card</td>\n",
       "      <td>1</td>\n",
       "      <td>13.80</td>\n",
       "    </tr>\n",
       "    <tr>\n",
       "      <th>102</th>\n",
       "      <td>21b8b46679ea6482cbf911d960490048</td>\n",
       "      <td>2</td>\n",
       "      <td>voucher</td>\n",
       "      <td>1</td>\n",
       "      <td>43.12</td>\n",
       "    </tr>\n",
       "  </tbody>\n",
       "</table>\n",
       "</div>"
      ],
      "text/plain": [
       "                             order_id  payment_sequential payment_type  \\\n",
       "25   5cfd514482e22bc992e7693f0e3e8df7                   2      voucher   \n",
       "35   b2bb080b6bc860118a246fd9b6fad6da                   1  credit_card   \n",
       "75   3689194c14ad4e2e7361ebd1df0e77b0                   2      voucher   \n",
       "84   723e462ce1ee50e024887c0b403130f3                   1  credit_card   \n",
       "102  21b8b46679ea6482cbf911d960490048                   2      voucher   \n",
       "\n",
       "     payment_installments  payment_value  \n",
       "25                      1          45.17  \n",
       "35                      1         173.84  \n",
       "75                      1          57.53  \n",
       "84                      1          13.80  \n",
       "102                     1          43.12  "
      ]
     },
     "execution_count": 12,
     "metadata": {},
     "output_type": "execute_result"
    }
   ],
   "source": [
    "#Investigation into duplicated order_id column:\n",
    "order_payments_duplicated = order_payments[order_payments.duplicated('order_id', keep=False) == True]\n",
    "order_payments_duplicated.head()"
   ]
  },
  {
   "cell_type": "code",
   "execution_count": 13,
   "metadata": {},
   "outputs": [
    {
     "data": {
      "text/html": [
       "<div>\n",
       "<style scoped>\n",
       "    .dataframe tbody tr th:only-of-type {\n",
       "        vertical-align: middle;\n",
       "    }\n",
       "\n",
       "    .dataframe tbody tr th {\n",
       "        vertical-align: top;\n",
       "    }\n",
       "\n",
       "    .dataframe thead th {\n",
       "        text-align: right;\n",
       "    }\n",
       "</style>\n",
       "<table border=\"1\" class=\"dataframe\">\n",
       "  <thead>\n",
       "    <tr style=\"text-align: right;\">\n",
       "      <th></th>\n",
       "      <th>order_id</th>\n",
       "      <th>payment_sequential</th>\n",
       "      <th>payment_type</th>\n",
       "      <th>payment_installments</th>\n",
       "      <th>payment_value</th>\n",
       "    </tr>\n",
       "  </thead>\n",
       "  <tbody>\n",
       "    <tr>\n",
       "      <th>25</th>\n",
       "      <td>5cfd514482e22bc992e7693f0e3e8df7</td>\n",
       "      <td>2</td>\n",
       "      <td>voucher</td>\n",
       "      <td>1</td>\n",
       "      <td>45.17</td>\n",
       "    </tr>\n",
       "    <tr>\n",
       "      <th>57742</th>\n",
       "      <td>5cfd514482e22bc992e7693f0e3e8df7</td>\n",
       "      <td>1</td>\n",
       "      <td>credit_card</td>\n",
       "      <td>4</td>\n",
       "      <td>665.41</td>\n",
       "    </tr>\n",
       "  </tbody>\n",
       "</table>\n",
       "</div>"
      ],
      "text/plain": [
       "                               order_id  payment_sequential payment_type  \\\n",
       "25     5cfd514482e22bc992e7693f0e3e8df7                   2      voucher   \n",
       "57742  5cfd514482e22bc992e7693f0e3e8df7                   1  credit_card   \n",
       "\n",
       "       payment_installments  payment_value  \n",
       "25                        1          45.17  \n",
       "57742                     4         665.41  "
      ]
     },
     "execution_count": 13,
     "metadata": {},
     "output_type": "execute_result"
    }
   ],
   "source": [
    "duplicate_ex_1 = order_payments[order_payments['order_id']=='5cfd514482e22bc992e7693f0e3e8df7']\n",
    "duplicate_ex_1"
   ]
  },
  {
   "cell_type": "code",
   "execution_count": 14,
   "metadata": {},
   "outputs": [
    {
     "data": {
      "text/html": [
       "<div>\n",
       "<style scoped>\n",
       "    .dataframe tbody tr th:only-of-type {\n",
       "        vertical-align: middle;\n",
       "    }\n",
       "\n",
       "    .dataframe tbody tr th {\n",
       "        vertical-align: top;\n",
       "    }\n",
       "\n",
       "    .dataframe thead th {\n",
       "        text-align: right;\n",
       "    }\n",
       "</style>\n",
       "<table border=\"1\" class=\"dataframe\">\n",
       "  <thead>\n",
       "    <tr style=\"text-align: right;\">\n",
       "      <th></th>\n",
       "      <th>order_id</th>\n",
       "      <th>payment_sequential</th>\n",
       "      <th>payment_type</th>\n",
       "      <th>payment_installments</th>\n",
       "      <th>payment_value</th>\n",
       "    </tr>\n",
       "  </thead>\n",
       "  <tbody>\n",
       "    <tr>\n",
       "      <th>35</th>\n",
       "      <td>b2bb080b6bc860118a246fd9b6fad6da</td>\n",
       "      <td>1</td>\n",
       "      <td>credit_card</td>\n",
       "      <td>1</td>\n",
       "      <td>173.84</td>\n",
       "    </tr>\n",
       "    <tr>\n",
       "      <th>13238</th>\n",
       "      <td>b2bb080b6bc860118a246fd9b6fad6da</td>\n",
       "      <td>2</td>\n",
       "      <td>voucher</td>\n",
       "      <td>1</td>\n",
       "      <td>24.08</td>\n",
       "    </tr>\n",
       "  </tbody>\n",
       "</table>\n",
       "</div>"
      ],
      "text/plain": [
       "                               order_id  payment_sequential payment_type  \\\n",
       "35     b2bb080b6bc860118a246fd9b6fad6da                   1  credit_card   \n",
       "13238  b2bb080b6bc860118a246fd9b6fad6da                   2      voucher   \n",
       "\n",
       "       payment_installments  payment_value  \n",
       "35                        1         173.84  \n",
       "13238                     1          24.08  "
      ]
     },
     "execution_count": 14,
     "metadata": {},
     "output_type": "execute_result"
    }
   ],
   "source": [
    "duplicate_ex_2 = order_payments[order_payments['order_id']=='b2bb080b6bc860118a246fd9b6fad6da']\n",
    "duplicate_ex_2"
   ]
  },
  {
   "cell_type": "code",
   "execution_count": 15,
   "metadata": {},
   "outputs": [
    {
     "data": {
      "text/html": [
       "<div>\n",
       "<style scoped>\n",
       "    .dataframe tbody tr th:only-of-type {\n",
       "        vertical-align: middle;\n",
       "    }\n",
       "\n",
       "    .dataframe tbody tr th {\n",
       "        vertical-align: top;\n",
       "    }\n",
       "\n",
       "    .dataframe thead th {\n",
       "        text-align: right;\n",
       "    }\n",
       "</style>\n",
       "<table border=\"1\" class=\"dataframe\">\n",
       "  <thead>\n",
       "    <tr style=\"text-align: right;\">\n",
       "      <th></th>\n",
       "      <th>order_id</th>\n",
       "      <th>payment_sequential</th>\n",
       "      <th>payment_type</th>\n",
       "      <th>payment_installments</th>\n",
       "      <th>payment_value</th>\n",
       "      <th>order_id_payment</th>\n",
       "    </tr>\n",
       "  </thead>\n",
       "  <tbody>\n",
       "    <tr>\n",
       "      <th>0</th>\n",
       "      <td>b81ef226f3fe1789b1e8b2acac839d17</td>\n",
       "      <td>1</td>\n",
       "      <td>credit_card</td>\n",
       "      <td>8</td>\n",
       "      <td>99.33</td>\n",
       "      <td>b81ef226f3fe1789b1e8b2acac839d171</td>\n",
       "    </tr>\n",
       "    <tr>\n",
       "      <th>1</th>\n",
       "      <td>a9810da82917af2d9aefd1278f1dcfa0</td>\n",
       "      <td>1</td>\n",
       "      <td>credit_card</td>\n",
       "      <td>1</td>\n",
       "      <td>24.39</td>\n",
       "      <td>a9810da82917af2d9aefd1278f1dcfa01</td>\n",
       "    </tr>\n",
       "    <tr>\n",
       "      <th>2</th>\n",
       "      <td>25e8ea4e93396b6fa0d3dd708e76c1bd</td>\n",
       "      <td>1</td>\n",
       "      <td>credit_card</td>\n",
       "      <td>1</td>\n",
       "      <td>65.71</td>\n",
       "      <td>25e8ea4e93396b6fa0d3dd708e76c1bd1</td>\n",
       "    </tr>\n",
       "    <tr>\n",
       "      <th>3</th>\n",
       "      <td>ba78997921bbcdc1373bb41e913ab953</td>\n",
       "      <td>1</td>\n",
       "      <td>credit_card</td>\n",
       "      <td>8</td>\n",
       "      <td>107.78</td>\n",
       "      <td>ba78997921bbcdc1373bb41e913ab9531</td>\n",
       "    </tr>\n",
       "    <tr>\n",
       "      <th>4</th>\n",
       "      <td>42fdf880ba16b47b59251dd489d4441a</td>\n",
       "      <td>1</td>\n",
       "      <td>credit_card</td>\n",
       "      <td>2</td>\n",
       "      <td>128.45</td>\n",
       "      <td>42fdf880ba16b47b59251dd489d4441a1</td>\n",
       "    </tr>\n",
       "  </tbody>\n",
       "</table>\n",
       "</div>"
      ],
      "text/plain": [
       "                           order_id  payment_sequential payment_type  \\\n",
       "0  b81ef226f3fe1789b1e8b2acac839d17                   1  credit_card   \n",
       "1  a9810da82917af2d9aefd1278f1dcfa0                   1  credit_card   \n",
       "2  25e8ea4e93396b6fa0d3dd708e76c1bd                   1  credit_card   \n",
       "3  ba78997921bbcdc1373bb41e913ab953                   1  credit_card   \n",
       "4  42fdf880ba16b47b59251dd489d4441a                   1  credit_card   \n",
       "\n",
       "   payment_installments  payment_value                   order_id_payment  \n",
       "0                     8          99.33  b81ef226f3fe1789b1e8b2acac839d171  \n",
       "1                     1          24.39  a9810da82917af2d9aefd1278f1dcfa01  \n",
       "2                     1          65.71  25e8ea4e93396b6fa0d3dd708e76c1bd1  \n",
       "3                     8         107.78  ba78997921bbcdc1373bb41e913ab9531  \n",
       "4                     2         128.45  42fdf880ba16b47b59251dd489d4441a1  "
      ]
     },
     "execution_count": 15,
     "metadata": {},
     "output_type": "execute_result"
    }
   ],
   "source": [
    "# The repeats of the 'order_id' column are a result of the customer using multiple forms of payments on the order. \n",
    "# Will create a new column, 'order_id_payment', that concatenates these two columns together.\n",
    "# 'order_id_payment' is a unique identifier for every row in this dataset. It will be used as the primary key.\n",
    "# 'order_id' will be used as a foreign key to connect to the primary key 'order_id' in the orders dataset.\n",
    "\n",
    "order_payments['order_id_payment'] = order_payments['order_id'] + order_payments['payment_sequential'].astype(str)\n",
    "order_payments.head()"
   ]
  },
  {
   "cell_type": "code",
   "execution_count": 16,
   "metadata": {},
   "outputs": [
    {
     "name": "stdout",
     "output_type": "stream",
     "text": [
      "103886\n",
      "103886\n"
     ]
    },
    {
     "data": {
      "text/html": [
       "<div>\n",
       "<style scoped>\n",
       "    .dataframe tbody tr th:only-of-type {\n",
       "        vertical-align: middle;\n",
       "    }\n",
       "\n",
       "    .dataframe tbody tr th {\n",
       "        vertical-align: top;\n",
       "    }\n",
       "\n",
       "    .dataframe thead th {\n",
       "        text-align: right;\n",
       "    }\n",
       "</style>\n",
       "<table border=\"1\" class=\"dataframe\">\n",
       "  <thead>\n",
       "    <tr style=\"text-align: right;\">\n",
       "      <th></th>\n",
       "      <th>order_id_payment</th>\n",
       "      <th>order_id</th>\n",
       "      <th>payment_sequential</th>\n",
       "      <th>payment_type</th>\n",
       "      <th>payment_installments</th>\n",
       "      <th>payment_value</th>\n",
       "    </tr>\n",
       "  </thead>\n",
       "  <tbody>\n",
       "    <tr>\n",
       "      <th>0</th>\n",
       "      <td>b81ef226f3fe1789b1e8b2acac839d171</td>\n",
       "      <td>b81ef226f3fe1789b1e8b2acac839d17</td>\n",
       "      <td>1</td>\n",
       "      <td>credit_card</td>\n",
       "      <td>8</td>\n",
       "      <td>99.33</td>\n",
       "    </tr>\n",
       "    <tr>\n",
       "      <th>1</th>\n",
       "      <td>a9810da82917af2d9aefd1278f1dcfa01</td>\n",
       "      <td>a9810da82917af2d9aefd1278f1dcfa0</td>\n",
       "      <td>1</td>\n",
       "      <td>credit_card</td>\n",
       "      <td>1</td>\n",
       "      <td>24.39</td>\n",
       "    </tr>\n",
       "  </tbody>\n",
       "</table>\n",
       "</div>"
      ],
      "text/plain": [
       "                    order_id_payment                          order_id  \\\n",
       "0  b81ef226f3fe1789b1e8b2acac839d171  b81ef226f3fe1789b1e8b2acac839d17   \n",
       "1  a9810da82917af2d9aefd1278f1dcfa01  a9810da82917af2d9aefd1278f1dcfa0   \n",
       "\n",
       "   payment_sequential payment_type  payment_installments  payment_value  \n",
       "0                   1  credit_card                     8          99.33  \n",
       "1                   1  credit_card                     1          24.39  "
      ]
     },
     "execution_count": 16,
     "metadata": {},
     "output_type": "execute_result"
    }
   ],
   "source": [
    "print(len(order_payments))\n",
    "# The 'order_id_payment' column IS unique for this dataset\n",
    "print(len(order_payments['order_id_payment'].unique()))\n",
    "\n",
    "#Rearrange columns so that 'order_id_payment' displays first\n",
    "new_column_order = ['order_id_payment', 'order_id', 'payment_sequential', 'payment_type', 'payment_installments', 'payment_value']\n",
    "order_payments = order_payments[new_column_order]\n",
    "order_payments.head(2)"
   ]
  },
  {
   "cell_type": "code",
   "execution_count": 17,
   "metadata": {},
   "outputs": [],
   "source": [
    "#Save this modified dataframe as csv file so that I can insert it into the order_payments table:\n",
    "order_payments.to_csv('data/brazilian-ecommerce/order_payments_modified.csv', index=False)"
   ]
  },
  {
   "cell_type": "markdown",
   "metadata": {},
   "source": [
    "Insert data into order_reviews table:\n",
    "![title](images/insert_order_payments_data.JPG)"
   ]
  },
  {
   "cell_type": "markdown",
   "metadata": {},
   "source": [
    "#### order_items table\n",
    "\n",
    "The repeats of the 'order_id' column are a result of the customer using multiple forms of payments on the order (see investigation below). <br>\n",
    "Will create a new column, 'order_id_payment', that concatenates these two columns together.<br>\n",
    "'order_id_payment' is a unique identifier for every row in this dataset. It will be used as the primary key.<br>\n",
    "'order_id' will be used as a foreign key to connect to the primary key 'order_id' in the orders dataset.<br>\n",
    "\n",
    "Create table:\n",
    "![title](images/create_order_items_table_updated.JPG)"
   ]
  },
  {
   "cell_type": "code",
   "execution_count": 18,
   "metadata": {},
   "outputs": [
    {
     "name": "stdout",
     "output_type": "stream",
     "text": [
      "112650\n",
      "98666\n"
     ]
    }
   ],
   "source": [
    "# Can the 'order_id' column be used as the primary key for the 'order_items' table? \n",
    "#(ie is 'order_id' a unique, non-null identifier for each row in this table?)\n",
    "order_items = pd.read_csv('data/brazilian-ecommerce/olist_order_items_dataset.csv')\n",
    "\n",
    "print(len(order_items))\n",
    "# The 'order_id' column is not unique for this dataset\n",
    "print(len(order_items['order_id'].unique()))\n",
    "\n",
    "# Answer: No, 'order_id' is not a unique identifer for this table."
   ]
  },
  {
   "cell_type": "code",
   "execution_count": 19,
   "metadata": {},
   "outputs": [
    {
     "data": {
      "text/html": [
       "<div>\n",
       "<style scoped>\n",
       "    .dataframe tbody tr th:only-of-type {\n",
       "        vertical-align: middle;\n",
       "    }\n",
       "\n",
       "    .dataframe tbody tr th {\n",
       "        vertical-align: top;\n",
       "    }\n",
       "\n",
       "    .dataframe thead th {\n",
       "        text-align: right;\n",
       "    }\n",
       "</style>\n",
       "<table border=\"1\" class=\"dataframe\">\n",
       "  <thead>\n",
       "    <tr style=\"text-align: right;\">\n",
       "      <th></th>\n",
       "      <th>order_id</th>\n",
       "      <th>order_item_id</th>\n",
       "      <th>product_id</th>\n",
       "      <th>seller_id</th>\n",
       "      <th>shipping_limit_date</th>\n",
       "      <th>price</th>\n",
       "      <th>freight_value</th>\n",
       "    </tr>\n",
       "  </thead>\n",
       "  <tbody>\n",
       "    <tr>\n",
       "      <th>13</th>\n",
       "      <td>0008288aa423d2a3f00fcb17cd7d8719</td>\n",
       "      <td>1</td>\n",
       "      <td>368c6c730842d78016ad823897a372db</td>\n",
       "      <td>1f50f920176fa81dab994f9023523100</td>\n",
       "      <td>2018-02-21 02:55:52</td>\n",
       "      <td>49.90</td>\n",
       "      <td>13.37</td>\n",
       "    </tr>\n",
       "    <tr>\n",
       "      <th>14</th>\n",
       "      <td>0008288aa423d2a3f00fcb17cd7d8719</td>\n",
       "      <td>2</td>\n",
       "      <td>368c6c730842d78016ad823897a372db</td>\n",
       "      <td>1f50f920176fa81dab994f9023523100</td>\n",
       "      <td>2018-02-21 02:55:52</td>\n",
       "      <td>49.90</td>\n",
       "      <td>13.37</td>\n",
       "    </tr>\n",
       "    <tr>\n",
       "      <th>32</th>\n",
       "      <td>00143d0f86d6fbd9f9b38ab440ac16f5</td>\n",
       "      <td>1</td>\n",
       "      <td>e95ee6822b66ac6058e2e4aff656071a</td>\n",
       "      <td>a17f621c590ea0fab3d5d883e1630ec6</td>\n",
       "      <td>2017-10-20 16:07:52</td>\n",
       "      <td>21.33</td>\n",
       "      <td>15.10</td>\n",
       "    </tr>\n",
       "    <tr>\n",
       "      <th>33</th>\n",
       "      <td>00143d0f86d6fbd9f9b38ab440ac16f5</td>\n",
       "      <td>2</td>\n",
       "      <td>e95ee6822b66ac6058e2e4aff656071a</td>\n",
       "      <td>a17f621c590ea0fab3d5d883e1630ec6</td>\n",
       "      <td>2017-10-20 16:07:52</td>\n",
       "      <td>21.33</td>\n",
       "      <td>15.10</td>\n",
       "    </tr>\n",
       "    <tr>\n",
       "      <th>34</th>\n",
       "      <td>00143d0f86d6fbd9f9b38ab440ac16f5</td>\n",
       "      <td>3</td>\n",
       "      <td>e95ee6822b66ac6058e2e4aff656071a</td>\n",
       "      <td>a17f621c590ea0fab3d5d883e1630ec6</td>\n",
       "      <td>2017-10-20 16:07:52</td>\n",
       "      <td>21.33</td>\n",
       "      <td>15.10</td>\n",
       "    </tr>\n",
       "  </tbody>\n",
       "</table>\n",
       "</div>"
      ],
      "text/plain": [
       "                            order_id  order_item_id  \\\n",
       "13  0008288aa423d2a3f00fcb17cd7d8719              1   \n",
       "14  0008288aa423d2a3f00fcb17cd7d8719              2   \n",
       "32  00143d0f86d6fbd9f9b38ab440ac16f5              1   \n",
       "33  00143d0f86d6fbd9f9b38ab440ac16f5              2   \n",
       "34  00143d0f86d6fbd9f9b38ab440ac16f5              3   \n",
       "\n",
       "                          product_id                         seller_id  \\\n",
       "13  368c6c730842d78016ad823897a372db  1f50f920176fa81dab994f9023523100   \n",
       "14  368c6c730842d78016ad823897a372db  1f50f920176fa81dab994f9023523100   \n",
       "32  e95ee6822b66ac6058e2e4aff656071a  a17f621c590ea0fab3d5d883e1630ec6   \n",
       "33  e95ee6822b66ac6058e2e4aff656071a  a17f621c590ea0fab3d5d883e1630ec6   \n",
       "34  e95ee6822b66ac6058e2e4aff656071a  a17f621c590ea0fab3d5d883e1630ec6   \n",
       "\n",
       "    shipping_limit_date  price  freight_value  \n",
       "13  2018-02-21 02:55:52  49.90          13.37  \n",
       "14  2018-02-21 02:55:52  49.90          13.37  \n",
       "32  2017-10-20 16:07:52  21.33          15.10  \n",
       "33  2017-10-20 16:07:52  21.33          15.10  \n",
       "34  2017-10-20 16:07:52  21.33          15.10  "
      ]
     },
     "execution_count": 19,
     "metadata": {},
     "output_type": "execute_result"
    }
   ],
   "source": [
    "#Investigation into duplicated order_id column:\n",
    "order_items_duplicated = order_items[order_items.duplicated('order_id', keep=False) == True]\n",
    "order_items_duplicated.head()"
   ]
  },
  {
   "cell_type": "code",
   "execution_count": 20,
   "metadata": {},
   "outputs": [
    {
     "data": {
      "text/html": [
       "<div>\n",
       "<style scoped>\n",
       "    .dataframe tbody tr th:only-of-type {\n",
       "        vertical-align: middle;\n",
       "    }\n",
       "\n",
       "    .dataframe tbody tr th {\n",
       "        vertical-align: top;\n",
       "    }\n",
       "\n",
       "    .dataframe thead th {\n",
       "        text-align: right;\n",
       "    }\n",
       "</style>\n",
       "<table border=\"1\" class=\"dataframe\">\n",
       "  <thead>\n",
       "    <tr style=\"text-align: right;\">\n",
       "      <th></th>\n",
       "      <th>order_id</th>\n",
       "      <th>order_item_id</th>\n",
       "      <th>product_id</th>\n",
       "      <th>seller_id</th>\n",
       "      <th>shipping_limit_date</th>\n",
       "      <th>price</th>\n",
       "      <th>freight_value</th>\n",
       "    </tr>\n",
       "  </thead>\n",
       "  <tbody>\n",
       "    <tr>\n",
       "      <th>13</th>\n",
       "      <td>0008288aa423d2a3f00fcb17cd7d8719</td>\n",
       "      <td>1</td>\n",
       "      <td>368c6c730842d78016ad823897a372db</td>\n",
       "      <td>1f50f920176fa81dab994f9023523100</td>\n",
       "      <td>2018-02-21 02:55:52</td>\n",
       "      <td>49.9</td>\n",
       "      <td>13.37</td>\n",
       "    </tr>\n",
       "    <tr>\n",
       "      <th>14</th>\n",
       "      <td>0008288aa423d2a3f00fcb17cd7d8719</td>\n",
       "      <td>2</td>\n",
       "      <td>368c6c730842d78016ad823897a372db</td>\n",
       "      <td>1f50f920176fa81dab994f9023523100</td>\n",
       "      <td>2018-02-21 02:55:52</td>\n",
       "      <td>49.9</td>\n",
       "      <td>13.37</td>\n",
       "    </tr>\n",
       "  </tbody>\n",
       "</table>\n",
       "</div>"
      ],
      "text/plain": [
       "                            order_id  order_item_id  \\\n",
       "13  0008288aa423d2a3f00fcb17cd7d8719              1   \n",
       "14  0008288aa423d2a3f00fcb17cd7d8719              2   \n",
       "\n",
       "                          product_id                         seller_id  \\\n",
       "13  368c6c730842d78016ad823897a372db  1f50f920176fa81dab994f9023523100   \n",
       "14  368c6c730842d78016ad823897a372db  1f50f920176fa81dab994f9023523100   \n",
       "\n",
       "    shipping_limit_date  price  freight_value  \n",
       "13  2018-02-21 02:55:52   49.9          13.37  \n",
       "14  2018-02-21 02:55:52   49.9          13.37  "
      ]
     },
     "execution_count": 20,
     "metadata": {},
     "output_type": "execute_result"
    }
   ],
   "source": [
    "duplicate_ex_1 = order_items[order_items['order_id']=='0008288aa423d2a3f00fcb17cd7d8719']\n",
    "duplicate_ex_1"
   ]
  },
  {
   "cell_type": "code",
   "execution_count": 21,
   "metadata": {},
   "outputs": [
    {
     "name": "stdout",
     "output_type": "stream",
     "text": [
      "112650\n",
      "112650\n"
     ]
    },
    {
     "data": {
      "text/html": [
       "<div>\n",
       "<style scoped>\n",
       "    .dataframe tbody tr th:only-of-type {\n",
       "        vertical-align: middle;\n",
       "    }\n",
       "\n",
       "    .dataframe tbody tr th {\n",
       "        vertical-align: top;\n",
       "    }\n",
       "\n",
       "    .dataframe thead th {\n",
       "        text-align: right;\n",
       "    }\n",
       "</style>\n",
       "<table border=\"1\" class=\"dataframe\">\n",
       "  <thead>\n",
       "    <tr style=\"text-align: right;\">\n",
       "      <th></th>\n",
       "      <th>order_id_item_id</th>\n",
       "      <th>order_id</th>\n",
       "      <th>order_item_id</th>\n",
       "      <th>product_id</th>\n",
       "      <th>seller_id</th>\n",
       "      <th>shipping_limit_date</th>\n",
       "      <th>price</th>\n",
       "      <th>freight_value</th>\n",
       "    </tr>\n",
       "  </thead>\n",
       "  <tbody>\n",
       "    <tr>\n",
       "      <th>0</th>\n",
       "      <td>00010242fe8c5a6d1ba2dd792cb162141</td>\n",
       "      <td>00010242fe8c5a6d1ba2dd792cb16214</td>\n",
       "      <td>1</td>\n",
       "      <td>4244733e06e7ecb4970a6e2683c13e61</td>\n",
       "      <td>48436dade18ac8b2bce089ec2a041202</td>\n",
       "      <td>2017-09-19 09:45:35</td>\n",
       "      <td>58.9</td>\n",
       "      <td>13.29</td>\n",
       "    </tr>\n",
       "    <tr>\n",
       "      <th>1</th>\n",
       "      <td>00018f77f2f0320c557190d7a144bdd31</td>\n",
       "      <td>00018f77f2f0320c557190d7a144bdd3</td>\n",
       "      <td>1</td>\n",
       "      <td>e5f2d52b802189ee658865ca93d83a8f</td>\n",
       "      <td>dd7ddc04e1b6c2c614352b383efe2d36</td>\n",
       "      <td>2017-05-03 11:05:13</td>\n",
       "      <td>239.9</td>\n",
       "      <td>19.93</td>\n",
       "    </tr>\n",
       "  </tbody>\n",
       "</table>\n",
       "</div>"
      ],
      "text/plain": [
       "                    order_id_item_id                          order_id  \\\n",
       "0  00010242fe8c5a6d1ba2dd792cb162141  00010242fe8c5a6d1ba2dd792cb16214   \n",
       "1  00018f77f2f0320c557190d7a144bdd31  00018f77f2f0320c557190d7a144bdd3   \n",
       "\n",
       "   order_item_id                        product_id  \\\n",
       "0              1  4244733e06e7ecb4970a6e2683c13e61   \n",
       "1              1  e5f2d52b802189ee658865ca93d83a8f   \n",
       "\n",
       "                          seller_id  shipping_limit_date  price  freight_value  \n",
       "0  48436dade18ac8b2bce089ec2a041202  2017-09-19 09:45:35   58.9          13.29  \n",
       "1  dd7ddc04e1b6c2c614352b383efe2d36  2017-05-03 11:05:13  239.9          19.93  "
      ]
     },
     "execution_count": 21,
     "metadata": {},
     "output_type": "execute_result"
    }
   ],
   "source": [
    "# The repeats of the 'order_id' column are a result of the order having multiple order_items\n",
    "# Will create a new column, 'order_id_item_id', that concatenates these two columns together.\n",
    "# 'order_id_item_id' is a unique identifier for every row in this dataset. It will be used as the primary key.\n",
    "# 'order_id' will be used as a foreign key to connect to the primary key 'order_id' in the orders dataset.\n",
    "\n",
    "order_items['order_id_item_id'] = order_items['order_id'] + order_items['order_item_id'].astype(str)\n",
    "\n",
    "print(len(order_items))\n",
    "# The 'order_id_payment' column IS unique for this dataset\n",
    "print(len(order_items['order_id_item_id'].unique()))\n",
    "\n",
    "#Rearrange columns so that 'order_id_payment' displays first\n",
    "new_column_order = ['order_id_item_id', 'order_id', 'order_item_id', 'product_id', 'seller_id', 'shipping_limit_date', 'price', 'freight_value']\n",
    "order_items = order_items[new_column_order]\n",
    "\n",
    "#Save this modified dataframe as csv file so that I can insert it into the order_items table:\n",
    "order_items.to_csv('data/brazilian-ecommerce/order_items_modified.csv', index=False)\n",
    "\n",
    "order_items.head(2)"
   ]
  },
  {
   "cell_type": "markdown",
   "metadata": {},
   "source": [
    "Insert data into order_reviews table:\n",
    "![title](images/insert_order_items_data.JPG)\n",
    "\n",
    "Delete header row (header is placed as first row):\n",
    "![title](images/delete_first_row_order_items.JPG)"
   ]
  },
  {
   "cell_type": "markdown",
   "metadata": {},
   "source": [
    "#### products table\n",
    "\n",
    "'product_id' is a unique identifier for every row in this dataset. It will be used as the primary key.<br>\n",
    "'product_id' links to the foreign key 'product_id' field in the order_items table.<br>\n",
    "\n",
    "Create table:\n",
    "![title](images/create_products_table.JPG)"
   ]
  },
  {
   "cell_type": "code",
   "execution_count": 22,
   "metadata": {},
   "outputs": [
    {
     "name": "stdout",
     "output_type": "stream",
     "text": [
      "32951\n",
      "32951\n"
     ]
    }
   ],
   "source": [
    "# Can the 'product_id' column be used as the primary key for the 'products' table? \n",
    "products = pd.read_csv('data/brazilian-ecommerce/olist_products_dataset.csv')\n",
    "\n",
    "print(len(products))\n",
    "# The 'order_id' column is not unique for this dataset\n",
    "print(len(products['product_id'].unique()))\n",
    "\n",
    "# Answer: Yes, 'product_id' IS a unique identifer for this table."
   ]
  },
  {
   "cell_type": "markdown",
   "metadata": {},
   "source": [
    "Insert data into products table:\n",
    "![title](images/insert_products_data.JPG)\n",
    "\n",
    "Delete header row (header is placed as first row):\n",
    "![title](images/delete_header_products.JPG)"
   ]
  },
  {
   "cell_type": "markdown",
   "metadata": {},
   "source": [
    "#### closed_deals table\n",
    "\n",
    "'mql_id' is a unique identifier for every row in this dataset. It will be used as the primary key.<br>\n",
    "\n",
    "Create table:\n",
    "![title](images/create_products_table.JPG)"
   ]
  },
  {
   "cell_type": "code",
   "execution_count": 23,
   "metadata": {},
   "outputs": [
    {
     "name": "stdout",
     "output_type": "stream",
     "text": [
      "842\n",
      "842\n"
     ]
    }
   ],
   "source": [
    "closed_deals = pd.read_csv('data/marketing-funnel-olist/olist_closed_deals_dataset.csv')\n",
    "\n",
    "print(len(closed_deals))\n",
    "print(len(closed_deals['mql_id'].unique()))\n",
    "\n",
    "# Answer: Yes, 'mql_id' IS a unique identifer for this table."
   ]
  },
  {
   "cell_type": "markdown",
   "metadata": {},
   "source": [
    "Insert data into closed_deals table:\n",
    "![title](images/insert_closed_deals_data.JPG)"
   ]
  },
  {
   "cell_type": "markdown",
   "metadata": {},
   "source": [
    "#### marketing_leads table\n",
    "\n",
    "'mql_id' is a unique identifier for every row in this dataset. It will be used as the primary key.<br>\n",
    "\n",
    "I will be joining the marketing_leads table and closed_deals by the 'mql_id' column from each table (this is the primary key in each table. I can do this b/c it is a 1:1 relationship where each 'mql_id' can only have one possible counterpart in the other table (corresponding to the same 'mql_id' value). The primary key, 'mql_id' in marketing_leads will also function as a foreign key. \n",
    "\n",
    "Create table:\n",
    "![title](images/create_marketing_leads_table.JPG)"
   ]
  },
  {
   "cell_type": "code",
   "execution_count": 24,
   "metadata": {},
   "outputs": [
    {
     "name": "stdout",
     "output_type": "stream",
     "text": [
      "8000\n",
      "8000\n"
     ]
    }
   ],
   "source": [
    "marketing_leads = pd.read_csv('data/marketing-funnel-olist/olist_marketing_qualified_leads_dataset.csv')\n",
    "print(len(marketing_leads))\n",
    "print(len(marketing_leads['mql_id'].unique()))\n",
    "\n",
    "# Answer: Yes, 'mql_id' IS a unique identifer for this table.\n",
    "#In this table, make 'mql_id' both primary key AND foreign key"
   ]
  },
  {
   "cell_type": "markdown",
   "metadata": {},
   "source": [
    "Insert data into closed_deals table:\n",
    "![title](images/insert_marketing_leads_data.JPG)"
   ]
  },
  {
   "cell_type": "markdown",
   "metadata": {},
   "source": [
    "Below is a schema I made using draw.io software to show the relationships between the tables in the database I created: \n",
    "![title](images/schema_rearranged.JPG)"
   ]
  },
  {
   "cell_type": "markdown",
   "metadata": {},
   "source": [
    "### Part 2: Structural Issue In Dataset\n",
    "\n",
    "The dataset structure (set by Olist) is overly normalized. There is important information that is missing as a result of the way that Olist structured their csv files: Orders can contain multiple items. These items can be from different sellers. \n",
    "\n",
    "\n",
    "<b>Issue 1</b>:\n",
    "- Fields in orders csv file (‘order_delivered_carrier’, ‘order_delivered_customer_date’, ‘order_estimated_delivery_date’) should be individual to each item, especially when the items in the order are from different sellers. \n",
    "- Instead of having this information for each order_item within the order, based on the way this data has been structured by Olist, this information only exists for each order. \n",
    "- Since this information can not be recovered, will proceed with logistics analysis by only looking at orders that have order_items from one unique seller (orders can have multiple items as long as all of the items are from the same seller).\n",
    "\n",
    "![title](images/issue_1.JPG)\n",
    "\n",
    "<b>Issue 2</b>:\n",
    "- There is no field that can be used as a connection/relationship between the ‘order_items’ csv and the ‘order_reviews’ csv \n",
    "- For orders with multiple items, a customer may leave multiple reviews under that order (each review corresponding to a different item). \n",
    "- With the way the datasets are currently structured, unable to tell which review corresponds to which item within an order. Since my analysis includes how the logistic operations impact reviews, this is a problem. In order to proceed with analysis, will only be looking at orders that have order_items from one unique product (orders can have multiple items as long as all of the items are the same product and thus from the same seller).\n",
    "\n",
    "![title](images/issue_2.JPG)\n",
    "\n",
    "\n",
    "<b>Action</b>: \n",
    "- In order to deal with both of these issues and proceed with the logistics analysis, I will be filtering the order_items table I have created to only include orders that have only one unique product_id and only one unique seller_id. 95,430 (96%) of the orders in this dataset meet these requirements (see below). The same procedure will be used in filter the orders, order_reviews and order_payments table. This way my analysis is consistently applied for the same 95,430 orders throughout the entire project."
   ]
  },
  {
   "cell_type": "code",
   "execution_count": 25,
   "metadata": {},
   "outputs": [],
   "source": [
    "import sqlite3\n",
    "import pandas as pd\n",
    "\n",
    "# Create modified table of order_items that filters the original order_items to only include orders that have only one unique product_id in the order. \n",
    "\n",
    "def run_query(q):\n",
    "    with sqlite3.connect('data/ecommerce.db') as conn:\n",
    "        return pd.read_sql_query(q,conn)\n",
    "\n",
    "def run_command(c):\n",
    "    with sqlite3.connect('data/ecommerce.db') as conn:\n",
    "        conn.isolation_level=None\n",
    "        conn.execute(c)    \n",
    "\n",
    "# Create the modified tables and insert the relevant data\n",
    "\n",
    "# order_items_modified\n",
    "c1 = '''\n",
    "CREATE TABLE 'order_items_modified' (\n",
    "    'order_id_item_id' [TEXT] PRIMARY KEY,\n",
    "    'order_id' [TEXT],\n",
    "    'order_item_id' [INTEGER],\n",
    "    'product_id' [TEXT],\n",
    "    'seller_id' [TEXT],\n",
    "    'shipping_limit_date' [TEXT],\n",
    "    'price' [REAL],\n",
    "    'freight_value' [REAL],\n",
    "    FOREIGN KEY ('order_id')\n",
    "        REFERENCES orders ('order_id'),\n",
    "    FOREIGN KEY ('seller_id')\n",
    "        REFERENCES sellers ('seller_id'),\n",
    "    FOREIGN KEY ('product_id')\n",
    "        REFERENCES products ('product_id')\n",
    "    )\n",
    "'''\n",
    "#run_command(c1)\n",
    "\n",
    "c2 = '''\n",
    "INSERT INTO order_items_modified\n",
    "    SELECT * \n",
    "    FROM order_items oi\n",
    "    WHERE oi.order_id IN (\n",
    "                      SELECT order_id\n",
    "                      FROM order_items\n",
    "                      GROUP BY order_id\n",
    "                      HAVING COUNT(DISTINCT(product_id))=1 AND COUNT(DISTINCT(seller_id))=1\n",
    "                      )\n",
    "'''\n",
    "\n",
    "#run_command(c2)\n",
    "\n",
    "# orders_modified \n",
    "c3 = '''\n",
    "CREATE TABLE 'orders_modified' (\n",
    "    'order_id' [TEXT] PRIMARY KEY,\n",
    "    'customer_id' [TEXT],\n",
    "    'order_status' [TEXT],\n",
    "    'order_purchase_timestamp' [TEXT],\n",
    "    'order_approved_at' [TEXT],\n",
    "    'order_delivered_carrier' [TEXT],\n",
    "    'order_delivered_customer_date' [TEXT],\n",
    "    'order_estimated_delivery_date' [TEXT],\n",
    "    FOREIGN KEY ('customer_id')\n",
    "        REFERENCES customers ('customer_id')\n",
    "    )\n",
    "'''\n",
    "#run_command(c3)\n",
    "\n",
    "c4 = '''\n",
    "INSERT INTO orders_modified\n",
    "    SELECT o.*\n",
    "    FROM orders o\n",
    "    INNER JOIN order_items_modified oim ON oim.order_id=o.order_id\n",
    "    GROUP BY oim.order_id\n",
    "'''\n",
    "\n",
    "#run_command(c4)\n",
    "\n",
    "# order_reviews_modified\n",
    "c5 = '''\n",
    "CREATE TABLE 'order_reviews_modified' (\n",
    "    'review_id' [TEXT] PRIMARY KEY,\n",
    "    'order_id' [TEXT],\n",
    "    'review_score' [INTEGER],\n",
    "    'review_comment_title' [TEXT],\n",
    "    'review_comment_message' [TEXT],\n",
    "    'review_creation_date' [TEXT],\n",
    "    'review_answer_timestamp' [TEXT],\n",
    "    FOREIGN KEY ('order_id')\n",
    "        REFERENCES orders ('order_id')\n",
    "    )\n",
    "'''\n",
    "#run_command(c5)\n",
    "\n",
    "c6 = '''\n",
    "INSERT INTO order_reviews_modified\n",
    "    SELECT orev.*\n",
    "    FROM orders_modified om\n",
    "    LEFT JOIN order_reviews orev ON orev.order_id=om.order_id\n",
    "    GROUP BY orev.order_id\n",
    "    HAVING length(orev.order_id) > 0\n",
    "'''\n",
    "\n",
    "#run_command(c6)\n",
    "\n",
    "# order_payments_modified\n",
    "c7 = '''\n",
    "CREATE TABLE 'order_payments_modified' (\n",
    "    'order_id_payment' [TEXT] PRIMARY KEY,\n",
    "    'order_id' [TEXT],\n",
    "    'payment_sequential' [INTEGER],\n",
    "    'payment_type' [TEXT],\n",
    "    'payment_installments' [INTEGER],\n",
    "    'payment_value' [REAL],\n",
    "    FOREIGN KEY ('order_id')\n",
    "        REFERENCES orders ('order_id')\n",
    "    )\n",
    "'''\n",
    "#run_command(c7)\n",
    "\n",
    "c8 = '''\n",
    "INSERT INTO order_payments_modified\n",
    "    SELECT op.*\n",
    "    FROM orders_modified om\n",
    "    LEFT JOIN order_payments op ON op.order_id=om.order_id\n",
    "'''\n",
    "\n",
    "#run_command(c8)"
   ]
  },
  {
   "cell_type": "code",
   "execution_count": 26,
   "metadata": {},
   "outputs": [
    {
     "data": {
      "text/html": [
       "<div>\n",
       "<style scoped>\n",
       "    .dataframe tbody tr th:only-of-type {\n",
       "        vertical-align: middle;\n",
       "    }\n",
       "\n",
       "    .dataframe tbody tr th {\n",
       "        vertical-align: top;\n",
       "    }\n",
       "\n",
       "    .dataframe thead th {\n",
       "        text-align: right;\n",
       "    }\n",
       "</style>\n",
       "<table border=\"1\" class=\"dataframe\">\n",
       "  <thead>\n",
       "    <tr style=\"text-align: right;\">\n",
       "      <th></th>\n",
       "      <th>num_orders</th>\n",
       "      <th>percent</th>\n",
       "    </tr>\n",
       "  </thead>\n",
       "  <tbody>\n",
       "    <tr>\n",
       "      <th>0</th>\n",
       "      <td>95430</td>\n",
       "      <td>95.966452</td>\n",
       "    </tr>\n",
       "  </tbody>\n",
       "</table>\n",
       "</div>"
      ],
      "text/plain": [
       "   num_orders    percent\n",
       "0       95430  95.966452"
      ]
     },
     "execution_count": 26,
     "metadata": {},
     "output_type": "execute_result"
    }
   ],
   "source": [
    "q0 = '''\n",
    "SELECT\n",
    "    COUNT(DISTINCT(order_id)) num_orders,\n",
    "    (CAST(COUNT(DISTINCT(order_id)) as float)/(SELECT COUNT(DISTINCT(order_id)) FROM orders))*100 percent\n",
    "FROM order_items_modified\n",
    "'''\n",
    "\n",
    "run_query(q0)"
   ]
  },
  {
   "cell_type": "code",
   "execution_count": 27,
   "metadata": {},
   "outputs": [
    {
     "name": "stdout",
     "output_type": "stream",
     "text": [
      "Orders:\n",
      "   number_of_rows  number_order_id  number_unique_order_id\n",
      "0           99441            99441                   99441\n",
      "Orders modified:\n",
      "   number_of_rows  number_order_id  number_unique_order_id\n",
      "0           95430            95430                   95430\n",
      "Order items:\n",
      "   number_of_rows  number_order_id  number_unique_order_id\n",
      "0          112650           112650                   98666\n",
      "Order items modified:\n",
      "   number_of_rows  number_order_id  number_unique_order_id\n",
      "0          104882           104882                   95430\n",
      "Order reviews:\n",
      "   number_of_rows  number_order_id  number_unique_order_id\n",
      "0           99173            99173                   98926\n",
      "Order reviews modified:\n",
      "   number_of_rows  number_order_id  number_unique_order_id\n",
      "0           94975            94975                   94975\n",
      "Order payments:\n",
      "   number_of_rows  number_order_id  number_unique_order_id\n",
      "0          103886           103886                   99440\n",
      "Order payments modified:\n",
      "   number_of_rows  number_order_id  number_unique_order_id\n",
      "0           99635            99634                   95429\n"
     ]
    }
   ],
   "source": [
    "## Summary of changes: \n",
    "\n",
    "q1a = '''\n",
    "SELECT \n",
    "    COUNT(*) number_of_rows,\n",
    "    COUNT(order_id) number_order_id,\n",
    "    COUNT(DISTINCT order_id) number_unique_order_id\n",
    "FROM orders\n",
    "'''\n",
    "print('Orders:')\n",
    "print(run_query(q1a))\n",
    "\n",
    "q1b = '''\n",
    "SELECT \n",
    "    COUNT(*) number_of_rows,\n",
    "    COUNT(order_id) number_order_id,\n",
    "    COUNT(DISTINCT order_id) number_unique_order_id\n",
    "FROM orders_modified\n",
    "'''\n",
    "print('Orders modified:')\n",
    "print(run_query(q1b))\n",
    "\n",
    "q2a = '''\n",
    "SELECT \n",
    "    COUNT(*) number_of_rows,\n",
    "    COUNT(order_id) number_order_id,\n",
    "    COUNT(DISTINCT order_id) number_unique_order_id\n",
    "FROM order_items\n",
    "'''\n",
    "print('Order items:')\n",
    "print(run_query(q2a))\n",
    "\n",
    "q2b = '''\n",
    "SELECT \n",
    "    COUNT(*) number_of_rows,\n",
    "    COUNT(order_id) number_order_id,\n",
    "    COUNT(DISTINCT order_id) number_unique_order_id\n",
    "FROM order_items_modified\n",
    "'''\n",
    "print('Order items modified:')\n",
    "print(run_query(q2b))\n",
    "\n",
    "q3a = '''\n",
    "SELECT \n",
    "    COUNT(*) number_of_rows,\n",
    "    COUNT(order_id) number_order_id,\n",
    "    COUNT(DISTINCT order_id) number_unique_order_id\n",
    "FROM order_reviews\n",
    "'''\n",
    "print('Order reviews:')\n",
    "print(run_query(q3a))\n",
    "\n",
    "q3b = '''\n",
    "SELECT \n",
    "    COUNT(*) number_of_rows,\n",
    "    COUNT(order_id) number_order_id,\n",
    "    COUNT(DISTINCT order_id) number_unique_order_id\n",
    "FROM order_reviews_modified\n",
    "'''\n",
    "print('Order reviews modified:')\n",
    "print(run_query(q3b))\n",
    "\n",
    "q4a = '''\n",
    "SELECT \n",
    "    COUNT(*) number_of_rows,\n",
    "    COUNT(order_id) number_order_id,\n",
    "    COUNT(DISTINCT order_id) number_unique_order_id\n",
    "FROM order_payments\n",
    "'''\n",
    "print('Order payments:')\n",
    "print(run_query(q4a))\n",
    "\n",
    "q4b = '''\n",
    "SELECT \n",
    "    COUNT(*) number_of_rows,\n",
    "    COUNT(order_id) number_order_id,\n",
    "    COUNT(DISTINCT order_id) number_unique_order_id\n",
    "FROM order_payments_modified\n",
    "'''\n",
    "print('Order payments modified:')\n",
    "print(run_query(q4b))"
   ]
  },
  {
   "cell_type": "markdown",
   "metadata": {},
   "source": [
    "<b> Modifed Tables Summary</b>:\n",
    "    \n",
    "The modified tables contain 95,430 orders instead of 99,441. The 95,430 orders are orders that are from one unique seller and are purchases of one unique product (can purchase multiple of that same product). \n",
    "\n",
    "Note that 455 of the orders do NOT contain an accompanying review. 1 of the orders doesn't have any payment information associated w/ it. \n",
    "\n",
    "Note for order_items_modified table: Currently each order only has one row b/c the data is being grouped by order_id. This means that the orders that are from one unique seller and are of one unique product but is a purchase of multiple of that same unique product, are only represented by one row. This means that there is not a new row for each multiple of that same product. That means there is no information on which orders contain multiple of the same product and which orders are simply just an order of one product. This also eliminates the data on total price and total freight. I need to fix this.... This is going to be tricky..."
   ]
  },
  {
   "cell_type": "markdown",
   "metadata": {},
   "source": [
    "### Part 3: Data Sourcing Issue\n",
    "\n",
    "According to Olist, this dataset is a simple random sampling of orders that have reviews. In other words, orders that don't have a review were not considered for the random sampling. Note from above, however, that they must not have sampled exclusively from orders that had reviews b/c the original dataset had 515 orders that didn't have a review (0.5% of the total orders). The modified dataset had 455 orders that didn't have a review (0.5% of the total orders). \n",
    "\n",
    "Additionally, due to the data structuring issues (and resulting missing data) mentioned above I am only analyzing orders that have items with one unique product_id from one unique seller_id. Ie filtering to only include orders that have one item or multiple identical items from same seller. Note, however, that this is by far the most common situation for the customers purchasing through Olist in this dataset: 95,430 (96%) of the orders in this dataset meet these requirements. \n",
    "\n",
    "<b>Summary</b>:<br>\n",
    "This dataset (and the resulting analysis) may not be representative of the actual entire Olist dataset because the analysis is only for orders that: 1.) Have a review submitted 2.) Have only one item or multiple identical items from the same seller. "
   ]
  },
  {
   "cell_type": "markdown",
   "metadata": {},
   "source": [
    "### Part 4: Missing Values\n",
    "\n",
    "<b> Need to go through systematically and deal w/ missing values! </b>\n",
    "\n",
    "'table_audit_function' is a function I built to \"audit\" a table/dataframe created from joining multiple tables.\n",
    "I will be using this to keep track of missing values in the tables I create.\n",
    "\n",
    "For each stage in the analysis, need to do the following:\n",
    "1. Identify if there are missing values\n",
    "2. If missing data is missing at random or if there are reasons/factors for why data is missing.\n",
    "3. How to best handle this missing data: \n",
    "    1. Remove missing data or \n",
    "    2. Impute the missing data and if so, impute in what way"
   ]
  },
  {
   "cell_type": "code",
   "execution_count": null,
   "metadata": {},
   "outputs": [],
   "source": []
  }
 ],
 "metadata": {
  "kernelspec": {
   "display_name": "Python 3",
   "language": "python",
   "name": "python3"
  },
  "language_info": {
   "codemirror_mode": {
    "name": "ipython",
    "version": 3
   },
   "file_extension": ".py",
   "mimetype": "text/x-python",
   "name": "python",
   "nbconvert_exporter": "python",
   "pygments_lexer": "ipython3",
   "version": "3.6.4"
  }
 },
 "nbformat": 4,
 "nbformat_minor": 2
}
